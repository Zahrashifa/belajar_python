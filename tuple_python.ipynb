{
 "cells": [
  {
   "cell_type": "code",
   "execution_count": null,
   "id": "b5835a45-a1de-4323-9038-901a0869f58a",
   "metadata": {},
   "outputs": [],
   "source": [
    "contoh_tuple=('januari', 'februari', 'maret', 'april')\n",
    "print(contoh_tuple[0])\n",
    "contoh_tuple=('januari', 'februari', 'maret', 'april')\n",
    "contoh_tuple[0]='desember'"
   ]
  }
 ],
 "metadata": {
  "kernelspec": {
   "display_name": "Python 3 (ipykernel)",
   "language": "python",
   "name": "python3"
  },
  "language_info": {
   "codemirror_mode": {
    "name": "ipython",
    "version": 3
   },
   "file_extension": ".py",
   "mimetype": "text/x-python",
   "name": "python",
   "nbconvert_exporter": "python",
   "pygments_lexer": "ipython3",
   "version": "3.9.10"
  }
 },
 "nbformat": 4,
 "nbformat_minor": 5
}
