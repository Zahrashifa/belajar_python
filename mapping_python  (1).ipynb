{
 "cells": [
  {
   "cell_type": "code",
   "execution_count": null,
   "id": "75855e14-ae27-4fa0-94e0-d9c6f466f7c6",
   "metadata": {},
   "outputs": [],
   "source": [
    "person={'nama':'Jhon Doe','pekerjaan':'Programmer'}\n",
    "print(person['nama'])\n",
    "print(person['pekerjaan'])"
   ]
  }
 ],
 "metadata": {
  "kernelspec": {
   "display_name": "Python 3 (ipykernel)",
   "language": "python",
   "name": "python3"
  },
  "language_info": {
   "codemirror_mode": {
    "name": "ipython",
    "version": 3
   },
   "file_extension": ".py",
   "mimetype": "text/x-python",
   "name": "python",
   "nbconvert_exporter": "python",
   "pygments_lexer": "ipython3",
   "version": "3.9.10"
  }
 },
 "nbformat": 4,
 "nbformat_minor": 5
}
