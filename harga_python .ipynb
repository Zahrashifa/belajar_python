{
 "cells": [
  {
   "cell_type": "code",
   "execution_count": null,
   "id": "e65f1e11-2c86-4133-9218-b75220555f97",
   "metadata": {},
   "outputs": [],
   "source": [
    "harga_asli=20000\n",
    "harga_potongan=2000\n",
    "hsp=harga_asli-harga_potongan\n",
    "hf=hsp*1.1\n",
    "print(hf)"
   ]
  }
 ],
 "metadata": {
  "kernelspec": {
   "display_name": "Python 3 (ipykernel)",
   "language": "python",
   "name": "python3"
  },
  "language_info": {
   "codemirror_mode": {
    "name": "ipython",
    "version": 3
   },
   "file_extension": ".py",
   "mimetype": "text/x-python",
   "name": "python",
   "nbconvert_exporter": "python",
   "pygments_lexer": "ipython3",
   "version": "3.9.10"
  }
 },
 "nbformat": 4,
 "nbformat_minor": 5
}
