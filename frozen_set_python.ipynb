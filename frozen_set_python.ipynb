{
 "cells": [
  {
   "cell_type": "code",
   "execution_count": null,
   "id": "0fe20e1b-524b-4133-b0c1-8154e98a6e40",
   "metadata": {},
   "outputs": [],
   "source": [
    "contoh_list=['Dewi','Budi','Cici','Linda','Cici']\n",
    "print(contoh_list)\n",
    "data_set={'Dewi','Budi','Cici','Linda','Cici'}\n",
    "print(data_set)\n",
    "frozen_set=({'Dewi','Budi','Cici','Linda','Cici'})\n",
    "print(frozen_set)"
   ]
  }
 ],
 "metadata": {
  "kernelspec": {
   "display_name": "Python 3 (ipykernel)",
   "language": "python",
   "name": "python3"
  },
  "language_info": {
   "codemirror_mode": {
    "name": "ipython",
    "version": 3
   },
   "file_extension": ".py",
   "mimetype": "text/x-python",
   "name": "python",
   "nbconvert_exporter": "python",
   "pygments_lexer": "ipython3",
   "version": "3.9.10"
  }
 },
 "nbformat": 4,
 "nbformat_minor": 5
}
